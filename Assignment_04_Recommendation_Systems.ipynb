{
  "nbformat": 4,
  "nbformat_minor": 0,
  "metadata": {
    "colab": {
      "provenance": []
    },
    "kernelspec": {
      "name": "python3",
      "display_name": "Python 3"
    },
    "language_info": {
      "name": "python"
    }
  },
  "cells": [
    {
      "cell_type": "code",
      "execution_count": 1,
      "metadata": {
        "id": "e1vVoWySvOQG"
      },
      "outputs": [],
      "source": [
        "import pandas as pd"
      ]
    },
    {
      "cell_type": "code",
      "source": [
        "import numpy as np"
      ],
      "metadata": {
        "id": "nOcEfIl6wcGm"
      },
      "execution_count": 2,
      "outputs": []
    },
    {
      "cell_type": "code",
      "source": [
        "import matplotlib.pyplot as plt"
      ],
      "metadata": {
        "id": "K0cf0LSCwfpU"
      },
      "execution_count": 3,
      "outputs": []
    },
    {
      "cell_type": "code",
      "source": [
        "data = pd.read_csv('/content/jokes-data.csv')"
      ],
      "metadata": {
        "id": "fxeQkeSjwlhW"
      },
      "execution_count": 4,
      "outputs": []
    },
    {
      "cell_type": "code",
      "source": [
        "!pip install surprise"
      ],
      "metadata": {
        "colab": {
          "base_uri": "https://localhost:8080/"
        },
        "id": "CctvyIdpw9aU",
        "outputId": "6026d7c8-9db4-4c98-c28b-3d9a9ecbbcdd"
      },
      "execution_count": 5,
      "outputs": [
        {
          "output_type": "stream",
          "name": "stdout",
          "text": [
            "Collecting surprise\n",
            "  Downloading surprise-0.1-py2.py3-none-any.whl (1.8 kB)\n",
            "Collecting scikit-surprise (from surprise)\n",
            "  Downloading scikit-surprise-1.1.3.tar.gz (771 kB)\n",
            "\u001b[2K     \u001b[90m━━━━━━━━━━━━━━━━━━━━━━━━━━━━━━━━━━━━━━━\u001b[0m \u001b[32m772.0/772.0 kB\u001b[0m \u001b[31m9.2 MB/s\u001b[0m eta \u001b[36m0:00:00\u001b[0m\n",
            "\u001b[?25h  Preparing metadata (setup.py) ... \u001b[?25l\u001b[?25hdone\n",
            "Requirement already satisfied: joblib>=1.0.0 in /usr/local/lib/python3.10/dist-packages (from scikit-surprise->surprise) (1.3.2)\n",
            "Requirement already satisfied: numpy>=1.17.3 in /usr/local/lib/python3.10/dist-packages (from scikit-surprise->surprise) (1.23.5)\n",
            "Requirement already satisfied: scipy>=1.3.2 in /usr/local/lib/python3.10/dist-packages (from scikit-surprise->surprise) (1.11.3)\n",
            "Building wheels for collected packages: scikit-surprise\n",
            "  Building wheel for scikit-surprise (setup.py) ... \u001b[?25l\u001b[?25hdone\n",
            "  Created wheel for scikit-surprise: filename=scikit_surprise-1.1.3-cp310-cp310-linux_x86_64.whl size=3163327 sha256=eb7db2464156b030058e9384791fb652df4113e4f2b7797b43b5973e0d7fd2a6\n",
            "  Stored in directory: /root/.cache/pip/wheels/a5/ca/a8/4e28def53797fdc4363ca4af740db15a9c2f1595ebc51fb445\n",
            "Successfully built scikit-surprise\n",
            "Installing collected packages: scikit-surprise, surprise\n",
            "Successfully installed scikit-surprise-1.1.3 surprise-0.1\n"
          ]
        }
      ]
    },
    {
      "cell_type": "code",
      "source": [
        "data.head()"
      ],
      "metadata": {
        "colab": {
          "base_uri": "https://localhost:8080/",
          "height": 206
        },
        "id": "wbAvTLQKxAc1",
        "outputId": "613f0d96-a870-45c1-b117-b33eb348b610"
      },
      "execution_count": 6,
      "outputs": [
        {
          "output_type": "execute_result",
          "data": {
            "text/plain": [
              "          id  user_id  joke_id  Rating\n",
              "0  31030_110    31030      110   2.750\n",
              "1  16144_109    16144      109   5.094\n",
              "2    23098_6    23098        6  -6.438\n",
              "3   14273_86    14273       86   4.406\n",
              "4  18419_134    18419      134   9.375"
            ],
            "text/html": [
              "\n",
              "  <div id=\"df-b530ef0c-fc7c-4e74-a8da-be798ed59df4\" class=\"colab-df-container\">\n",
              "    <div>\n",
              "<style scoped>\n",
              "    .dataframe tbody tr th:only-of-type {\n",
              "        vertical-align: middle;\n",
              "    }\n",
              "\n",
              "    .dataframe tbody tr th {\n",
              "        vertical-align: top;\n",
              "    }\n",
              "\n",
              "    .dataframe thead th {\n",
              "        text-align: right;\n",
              "    }\n",
              "</style>\n",
              "<table border=\"1\" class=\"dataframe\">\n",
              "  <thead>\n",
              "    <tr style=\"text-align: right;\">\n",
              "      <th></th>\n",
              "      <th>id</th>\n",
              "      <th>user_id</th>\n",
              "      <th>joke_id</th>\n",
              "      <th>Rating</th>\n",
              "    </tr>\n",
              "  </thead>\n",
              "  <tbody>\n",
              "    <tr>\n",
              "      <th>0</th>\n",
              "      <td>31030_110</td>\n",
              "      <td>31030</td>\n",
              "      <td>110</td>\n",
              "      <td>2.750</td>\n",
              "    </tr>\n",
              "    <tr>\n",
              "      <th>1</th>\n",
              "      <td>16144_109</td>\n",
              "      <td>16144</td>\n",
              "      <td>109</td>\n",
              "      <td>5.094</td>\n",
              "    </tr>\n",
              "    <tr>\n",
              "      <th>2</th>\n",
              "      <td>23098_6</td>\n",
              "      <td>23098</td>\n",
              "      <td>6</td>\n",
              "      <td>-6.438</td>\n",
              "    </tr>\n",
              "    <tr>\n",
              "      <th>3</th>\n",
              "      <td>14273_86</td>\n",
              "      <td>14273</td>\n",
              "      <td>86</td>\n",
              "      <td>4.406</td>\n",
              "    </tr>\n",
              "    <tr>\n",
              "      <th>4</th>\n",
              "      <td>18419_134</td>\n",
              "      <td>18419</td>\n",
              "      <td>134</td>\n",
              "      <td>9.375</td>\n",
              "    </tr>\n",
              "  </tbody>\n",
              "</table>\n",
              "</div>\n",
              "    <div class=\"colab-df-buttons\">\n",
              "\n",
              "  <div class=\"colab-df-container\">\n",
              "    <button class=\"colab-df-convert\" onclick=\"convertToInteractive('df-b530ef0c-fc7c-4e74-a8da-be798ed59df4')\"\n",
              "            title=\"Convert this dataframe to an interactive table.\"\n",
              "            style=\"display:none;\">\n",
              "\n",
              "  <svg xmlns=\"http://www.w3.org/2000/svg\" height=\"24px\" viewBox=\"0 -960 960 960\">\n",
              "    <path d=\"M120-120v-720h720v720H120Zm60-500h600v-160H180v160Zm220 220h160v-160H400v160Zm0 220h160v-160H400v160ZM180-400h160v-160H180v160Zm440 0h160v-160H620v160ZM180-180h160v-160H180v160Zm440 0h160v-160H620v160Z\"/>\n",
              "  </svg>\n",
              "    </button>\n",
              "\n",
              "  <style>\n",
              "    .colab-df-container {\n",
              "      display:flex;\n",
              "      gap: 12px;\n",
              "    }\n",
              "\n",
              "    .colab-df-convert {\n",
              "      background-color: #E8F0FE;\n",
              "      border: none;\n",
              "      border-radius: 50%;\n",
              "      cursor: pointer;\n",
              "      display: none;\n",
              "      fill: #1967D2;\n",
              "      height: 32px;\n",
              "      padding: 0 0 0 0;\n",
              "      width: 32px;\n",
              "    }\n",
              "\n",
              "    .colab-df-convert:hover {\n",
              "      background-color: #E2EBFA;\n",
              "      box-shadow: 0px 1px 2px rgba(60, 64, 67, 0.3), 0px 1px 3px 1px rgba(60, 64, 67, 0.15);\n",
              "      fill: #174EA6;\n",
              "    }\n",
              "\n",
              "    .colab-df-buttons div {\n",
              "      margin-bottom: 4px;\n",
              "    }\n",
              "\n",
              "    [theme=dark] .colab-df-convert {\n",
              "      background-color: #3B4455;\n",
              "      fill: #D2E3FC;\n",
              "    }\n",
              "\n",
              "    [theme=dark] .colab-df-convert:hover {\n",
              "      background-color: #434B5C;\n",
              "      box-shadow: 0px 1px 3px 1px rgba(0, 0, 0, 0.15);\n",
              "      filter: drop-shadow(0px 1px 2px rgba(0, 0, 0, 0.3));\n",
              "      fill: #FFFFFF;\n",
              "    }\n",
              "  </style>\n",
              "\n",
              "    <script>\n",
              "      const buttonEl =\n",
              "        document.querySelector('#df-b530ef0c-fc7c-4e74-a8da-be798ed59df4 button.colab-df-convert');\n",
              "      buttonEl.style.display =\n",
              "        google.colab.kernel.accessAllowed ? 'block' : 'none';\n",
              "\n",
              "      async function convertToInteractive(key) {\n",
              "        const element = document.querySelector('#df-b530ef0c-fc7c-4e74-a8da-be798ed59df4');\n",
              "        const dataTable =\n",
              "          await google.colab.kernel.invokeFunction('convertToInteractive',\n",
              "                                                    [key], {});\n",
              "        if (!dataTable) return;\n",
              "\n",
              "        const docLinkHtml = 'Like what you see? Visit the ' +\n",
              "          '<a target=\"_blank\" href=https://colab.research.google.com/notebooks/data_table.ipynb>data table notebook</a>'\n",
              "          + ' to learn more about interactive tables.';\n",
              "        element.innerHTML = '';\n",
              "        dataTable['output_type'] = 'display_data';\n",
              "        await google.colab.output.renderOutput(dataTable, element);\n",
              "        const docLink = document.createElement('div');\n",
              "        docLink.innerHTML = docLinkHtml;\n",
              "        element.appendChild(docLink);\n",
              "      }\n",
              "    </script>\n",
              "  </div>\n",
              "\n",
              "\n",
              "<div id=\"df-4e56519e-75b9-4848-bb81-74a30d7c618d\">\n",
              "  <button class=\"colab-df-quickchart\" onclick=\"quickchart('df-4e56519e-75b9-4848-bb81-74a30d7c618d')\"\n",
              "            title=\"Suggest charts.\"\n",
              "            style=\"display:none;\">\n",
              "\n",
              "<svg xmlns=\"http://www.w3.org/2000/svg\" height=\"24px\"viewBox=\"0 0 24 24\"\n",
              "     width=\"24px\">\n",
              "    <g>\n",
              "        <path d=\"M19 3H5c-1.1 0-2 .9-2 2v14c0 1.1.9 2 2 2h14c1.1 0 2-.9 2-2V5c0-1.1-.9-2-2-2zM9 17H7v-7h2v7zm4 0h-2V7h2v10zm4 0h-2v-4h2v4z\"/>\n",
              "    </g>\n",
              "</svg>\n",
              "  </button>\n",
              "\n",
              "<style>\n",
              "  .colab-df-quickchart {\n",
              "      --bg-color: #E8F0FE;\n",
              "      --fill-color: #1967D2;\n",
              "      --hover-bg-color: #E2EBFA;\n",
              "      --hover-fill-color: #174EA6;\n",
              "      --disabled-fill-color: #AAA;\n",
              "      --disabled-bg-color: #DDD;\n",
              "  }\n",
              "\n",
              "  [theme=dark] .colab-df-quickchart {\n",
              "      --bg-color: #3B4455;\n",
              "      --fill-color: #D2E3FC;\n",
              "      --hover-bg-color: #434B5C;\n",
              "      --hover-fill-color: #FFFFFF;\n",
              "      --disabled-bg-color: #3B4455;\n",
              "      --disabled-fill-color: #666;\n",
              "  }\n",
              "\n",
              "  .colab-df-quickchart {\n",
              "    background-color: var(--bg-color);\n",
              "    border: none;\n",
              "    border-radius: 50%;\n",
              "    cursor: pointer;\n",
              "    display: none;\n",
              "    fill: var(--fill-color);\n",
              "    height: 32px;\n",
              "    padding: 0;\n",
              "    width: 32px;\n",
              "  }\n",
              "\n",
              "  .colab-df-quickchart:hover {\n",
              "    background-color: var(--hover-bg-color);\n",
              "    box-shadow: 0 1px 2px rgba(60, 64, 67, 0.3), 0 1px 3px 1px rgba(60, 64, 67, 0.15);\n",
              "    fill: var(--button-hover-fill-color);\n",
              "  }\n",
              "\n",
              "  .colab-df-quickchart-complete:disabled,\n",
              "  .colab-df-quickchart-complete:disabled:hover {\n",
              "    background-color: var(--disabled-bg-color);\n",
              "    fill: var(--disabled-fill-color);\n",
              "    box-shadow: none;\n",
              "  }\n",
              "\n",
              "  .colab-df-spinner {\n",
              "    border: 2px solid var(--fill-color);\n",
              "    border-color: transparent;\n",
              "    border-bottom-color: var(--fill-color);\n",
              "    animation:\n",
              "      spin 1s steps(1) infinite;\n",
              "  }\n",
              "\n",
              "  @keyframes spin {\n",
              "    0% {\n",
              "      border-color: transparent;\n",
              "      border-bottom-color: var(--fill-color);\n",
              "      border-left-color: var(--fill-color);\n",
              "    }\n",
              "    20% {\n",
              "      border-color: transparent;\n",
              "      border-left-color: var(--fill-color);\n",
              "      border-top-color: var(--fill-color);\n",
              "    }\n",
              "    30% {\n",
              "      border-color: transparent;\n",
              "      border-left-color: var(--fill-color);\n",
              "      border-top-color: var(--fill-color);\n",
              "      border-right-color: var(--fill-color);\n",
              "    }\n",
              "    40% {\n",
              "      border-color: transparent;\n",
              "      border-right-color: var(--fill-color);\n",
              "      border-top-color: var(--fill-color);\n",
              "    }\n",
              "    60% {\n",
              "      border-color: transparent;\n",
              "      border-right-color: var(--fill-color);\n",
              "    }\n",
              "    80% {\n",
              "      border-color: transparent;\n",
              "      border-right-color: var(--fill-color);\n",
              "      border-bottom-color: var(--fill-color);\n",
              "    }\n",
              "    90% {\n",
              "      border-color: transparent;\n",
              "      border-bottom-color: var(--fill-color);\n",
              "    }\n",
              "  }\n",
              "</style>\n",
              "\n",
              "  <script>\n",
              "    async function quickchart(key) {\n",
              "      const quickchartButtonEl =\n",
              "        document.querySelector('#' + key + ' button');\n",
              "      quickchartButtonEl.disabled = true;  // To prevent multiple clicks.\n",
              "      quickchartButtonEl.classList.add('colab-df-spinner');\n",
              "      try {\n",
              "        const charts = await google.colab.kernel.invokeFunction(\n",
              "            'suggestCharts', [key], {});\n",
              "      } catch (error) {\n",
              "        console.error('Error during call to suggestCharts:', error);\n",
              "      }\n",
              "      quickchartButtonEl.classList.remove('colab-df-spinner');\n",
              "      quickchartButtonEl.classList.add('colab-df-quickchart-complete');\n",
              "    }\n",
              "    (() => {\n",
              "      let quickchartButtonEl =\n",
              "        document.querySelector('#df-4e56519e-75b9-4848-bb81-74a30d7c618d button');\n",
              "      quickchartButtonEl.style.display =\n",
              "        google.colab.kernel.accessAllowed ? 'block' : 'none';\n",
              "    })();\n",
              "  </script>\n",
              "</div>\n",
              "    </div>\n",
              "  </div>\n"
            ]
          },
          "metadata": {},
          "execution_count": 6
        }
      ]
    },
    {
      "cell_type": "code",
      "source": [
        "data.isna().sum()"
      ],
      "metadata": {
        "colab": {
          "base_uri": "https://localhost:8080/"
        },
        "id": "4wNN_DYJxFDY",
        "outputId": "eed58af6-8ff6-41b2-80d3-96b7cdcd6b1c"
      },
      "execution_count": 7,
      "outputs": [
        {
          "output_type": "execute_result",
          "data": {
            "text/plain": [
              "id         0\n",
              "user_id    0\n",
              "joke_id    0\n",
              "Rating     0\n",
              "dtype: int64"
            ]
          },
          "metadata": {},
          "execution_count": 7
        }
      ]
    },
    {
      "cell_type": "code",
      "source": [
        "data.dtypes"
      ],
      "metadata": {
        "colab": {
          "base_uri": "https://localhost:8080/"
        },
        "id": "GUTswqoqxI6x",
        "outputId": "b293f245-ba9f-4ddf-8eb5-af07c829b049"
      },
      "execution_count": 8,
      "outputs": [
        {
          "output_type": "execute_result",
          "data": {
            "text/plain": [
              "id          object\n",
              "user_id      int64\n",
              "joke_id      int64\n",
              "Rating     float64\n",
              "dtype: object"
            ]
          },
          "metadata": {},
          "execution_count": 8
        }
      ]
    },
    {
      "cell_type": "code",
      "source": [
        "from surprise import Reader, Dataset, KNNBasic, SVD"
      ],
      "metadata": {
        "id": "i6egjC4HxLtm"
      },
      "execution_count": 9,
      "outputs": []
    },
    {
      "cell_type": "code",
      "source": [
        "data.Rating.unique()"
      ],
      "metadata": {
        "colab": {
          "base_uri": "https://localhost:8080/"
        },
        "id": "FOZkFnKCxa_W",
        "outputId": "6f52d539-ee3d-4cf6-a247-c672a886b2a3"
      },
      "execution_count": 10,
      "outputs": [
        {
          "output_type": "execute_result",
          "data": {
            "text/plain": [
              "array([  2.75 ,   5.094,  -6.438,   4.406,   9.375,  -1.781,   6.25 ,\n",
              "        -2.906,  -5.75 ,   1.656,   0.688,   1.312,   6.031,   9.781,\n",
              "         8.75 ,   0.156,   3.562,   2.938,   3.75 ,  -1.906,   3.469,\n",
              "         7.   ,   4.656,   1.719,   6.219,  -8.25 ,   5.188,  -2.281,\n",
              "         1.406,   2.906,   3.625,   6.719,   5.656,   8.562,   2.156,\n",
              "        -5.344,   3.25 ,   1.   ,   7.375,   8.031,   6.125,   7.469,\n",
              "         2.125,   4.062,  -8.   ,  -2.75 ,   9.406,   8.875,   4.5  ,\n",
              "        -3.188,  -6.875,   2.719,   0.562,   2.969,   8.375,  -4.906,\n",
              "         8.594,  -7.469,   0.25 ,   6.406,   5.125,   3.156,   0.312,\n",
              "         0.969,  -3.969,   5.438,  -0.031,  -1.969,   4.688,   2.781,\n",
              "         0.875,  -9.625,  -2.188,  -3.062,   8.781,   6.938,  -7.406,\n",
              "         9.281,  -0.5  ,   1.25 ,   5.031,   3.375,   4.375,   6.875,\n",
              "         6.688,   8.531,   5.594,   7.75 ,   8.281,  -0.531,   9.5  ,\n",
              "         6.812,  -4.125,   1.875,   3.688,   4.438,  -5.5  ,  -1.406,\n",
              "         4.031,  -0.344,  -3.594,   9.344,  -2.719,   4.188,   6.094,\n",
              "         8.688,  -5.469,  -3.688,  -7.188,   4.219,   4.969,  -8.906,\n",
              "         9.938,   5.562,   2.281,  -6.844,  -4.281,   9.531,   5.219,\n",
              "        -2.688,   9.156,   3.938,   5.25 ,   8.5  ,  -9.812,   3.031,\n",
              "         8.156,   7.562,   3.875,   0.094,   1.438,   0.844,   3.312,\n",
              "        -3.219,   2.375,   3.281,   9.75 ,   5.062,   5.625,  10.   ,\n",
              "        -9.844,   2.062,   4.469,  -6.938,   7.156,  -3.781,   7.875,\n",
              "        -4.938,  -2.219,   5.719,   0.375,   2.562,   2.312,  -1.   ,\n",
              "        -8.188,   2.625,   1.906,  -0.156,  -0.938,   9.062,   7.594,\n",
              "        -1.344,  -3.562,  -0.594,   4.312,   6.594,   0.906,  -2.25 ,\n",
              "         9.688,  -9.719,  -0.062,  -3.094,  -3.031,  -5.594,   8.219,\n",
              "        -4.219,   6.062,  -0.688,  -4.625,   2.031,  -9.156,  -8.938,\n",
              "         7.844,   7.125,   2.875,  -0.75 ,  -7.094,  -7.5  ,  -5.562,\n",
              "         0.938,  -7.25 ,  -2.5  ,  -5.031,   8.969,  -1.125,   9.438,\n",
              "         1.594,   0.719,  -8.688,   4.938,   6.344,   3.   ,   3.594,\n",
              "         3.062,  -1.844,  -0.438,   8.812,   6.781,  -3.531,  -1.219,\n",
              "         5.875,   1.062,   8.656,   2.531,  -7.969,  -9.562,  -3.625,\n",
              "        -5.906,   0.062,   1.844,   2.688,  -2.938,   1.219,   7.656,\n",
              "        -8.375,  -8.062,   4.625,   6.562,   8.   ,  -6.125,  -2.406,\n",
              "         9.969,   2.656,   8.719,   7.344,  -4.344,  -1.812,   1.281,\n",
              "        -0.188,   9.25 ,  -6.594,   4.594,   3.219,   7.812,  -7.281,\n",
              "        -2.781,  -1.688,  -6.5  ,  -8.812,   2.844,  -3.438,  -2.375,\n",
              "        -9.5  ,   4.719,   3.125,  -4.875,   3.906,  -8.562,   6.969,\n",
              "         9.625,   8.25 ,  -9.406,  -0.219,  -2.156,   7.5  ,  -6.25 ,\n",
              "        -5.188,  -2.344,   9.844,  -3.875,   5.312,  -5.312,  -4.5  ,\n",
              "        -5.531,   2.406,   5.469,   8.344,  -9.094,  -3.906,   2.469,\n",
              "         3.5  ,  -8.5  ,   7.188,   0.406,  -2.   ,  -6.969,  -3.656,\n",
              "        -4.844,   5.375,   2.344,  -3.844,   7.031,  -5.656,  -3.75 ,\n",
              "        -1.031,   6.156,   4.562,   2.219,   1.531,  -4.469,  -0.406,\n",
              "         1.688,   5.938,  -5.844,   6.75 ,   1.156,   7.438,  -4.062,\n",
              "        -9.375,   3.438,  -6.375,  -8.125,  -3.938,  -2.812,  -2.094,\n",
              "         1.781,  -6.781,   4.844,  -6.906,   9.906,   1.625,  -7.594,\n",
              "         1.188,   3.094,  -8.031,   7.406,   2.094,   9.719,  -1.625,\n",
              "        -0.781,  -1.094,   5.906,   0.031,  -0.656,   4.781,   4.281,\n",
              "         3.406,   6.469,  -6.469,  -5.   ,   5.5  ,   3.531,   9.656,\n",
              "        -8.594,   7.062,   8.844,   9.812,   4.531,   9.188,  -8.344,\n",
              "         0.531,   8.469,  -2.438,  -1.25 ,   3.719,   5.688,   1.938,\n",
              "        -0.25 ,   6.656,   9.125,  -8.281,  -2.031,  -1.188,  -4.031,\n",
              "        -9.781,  -0.094,   8.188,   6.531,   8.938,   2.   ,  -0.281,\n",
              "        -3.281,   3.844,  -1.5  ,   0.   ,   5.406,   9.219,   6.625,\n",
              "        -4.375,   0.812,   2.188,   5.75 ,  -9.031,  -4.094,  -5.062,\n",
              "         2.594,   0.75 ,  -4.562,  -1.938,   0.125,   6.438,   3.656,\n",
              "        -4.438,   3.781,   2.438,   6.375,  -1.469,  -2.844,  -4.531,\n",
              "         0.344,  -9.219,   7.625,   4.125,   4.094,   6.312,   5.   ,\n",
              "         1.562,   5.281,  -3.469,  -3.812,   5.531,   9.312,  -6.312,\n",
              "         9.594,   3.969,   2.5  ,  -4.25 ,  -1.75 ,   7.688,   7.219,\n",
              "         4.75 ,   5.812,   9.031,  -5.969,   8.625,  -9.062,  -1.312,\n",
              "         8.062,  -0.969,   1.375,   7.312,  -5.688,  -0.875,  -8.656,\n",
              "        -8.094,   3.812,   5.344,  -4.156,   7.906,   8.406,  -9.688,\n",
              "        -0.812,   0.188,  -9.281,  -1.375,   9.875,   4.156,  -3.5  ,\n",
              "        -3.156,  -7.719,   1.812,  -9.25 ,  -2.594,  -1.062,   6.844,\n",
              "        -5.812,  -0.625,   8.312,  -1.281,  -0.562,  -1.656,  -6.281,\n",
              "         1.469,   7.781,  -9.875,   1.5  ,  -1.531,  -8.219,   8.125,\n",
              "        -1.719,   0.469,  -5.219,   0.656,   4.   ,  -7.844,   1.031,\n",
              "         4.875,  -1.875,  -5.406,   6.281,  -5.875,   0.781,  -6.812,\n",
              "        -6.625,  -6.219,   4.812,  -3.344,   1.969,  -7.656,   0.219,\n",
              "        -9.969,   5.969,  -9.938,  -6.719,   5.844,  -6.   ,   7.25 ,\n",
              "         7.969,   0.5  ,   9.   ,   3.188,   7.531,  -5.281,  -8.75 ,\n",
              "        -8.406,   4.906,  -7.219,   1.344,   0.438,   6.188,   1.125,\n",
              "         6.906,  -4.75 ,  -3.25 ,  -7.031,  -6.156,  -3.406,   2.25 ,\n",
              "        -4.656,   6.5  ,  -5.094,   4.25 ,  -2.562,   7.281,  -6.75 ,\n",
              "         1.094,   0.281,  -3.375,  -1.438,  -2.062,  -5.438,  -0.719,\n",
              "        -8.625,  -9.469,  -7.938,  -4.   ,  -0.906,  -9.188,  -5.156,\n",
              "        -2.531,  -2.969,  -5.938,  -4.812,   9.094,   3.344,   0.625,\n",
              "        -6.531,  -7.062,  -2.875,   8.438,  -6.406,  -7.906,  -9.75 ,\n",
              "         8.906,  -7.688,   1.75 ,  -7.   ,   9.562,  -0.375,  -6.656,\n",
              "        -8.969,  -7.344,  -2.312,   7.094,   5.156,  -4.312,  -7.781,\n",
              "        -9.531,  -8.438,   6.   ,  -1.156,   7.719,  -7.625,   9.469,\n",
              "        -8.531,  -6.031,  -3.   ,  -3.125,  -9.312,  -2.656,  -6.094,\n",
              "         7.938,  -2.125,  -7.312,   8.094,  -7.156,  -0.469,  -4.719,\n",
              "        -8.781,  -0.844,  -9.125,  -7.438,  -5.25 ,  -4.781,  -1.594,\n",
              "        -4.594,  -0.125,  -3.719,  -4.688,  -3.312,   5.781,  -5.375,\n",
              "        -8.875,  -9.906,   2.812,  -4.969,  -5.719,  -6.562,   0.594,\n",
              "         4.344,  -5.781,  -1.562,  -4.406,  -0.312,  -7.875,  -5.125,\n",
              "        -9.   ,  -8.156, -10.   ,  -7.375,  -5.625,  -8.719,  -9.656,\n",
              "        -2.469,  -8.844,  -6.688,  -9.594,  -4.188,  -7.125,  -7.531,\n",
              "        -7.562,  -6.188,  -8.312,  -6.344,  -7.812,  -6.062,  -8.469,\n",
              "        -9.438,  -2.625,  -9.344,  -7.75 ,   2.06 ])"
            ]
          },
          "metadata": {},
          "execution_count": 10
        }
      ]
    },
    {
      "cell_type": "code",
      "source": [
        "data.Rating.min()"
      ],
      "metadata": {
        "colab": {
          "base_uri": "https://localhost:8080/"
        },
        "id": "fKTe1eHVxiW3",
        "outputId": "0bbc6e05-933a-4700-de8d-2a51f2db63a9"
      },
      "execution_count": 11,
      "outputs": [
        {
          "output_type": "execute_result",
          "data": {
            "text/plain": [
              "-10.0"
            ]
          },
          "metadata": {},
          "execution_count": 11
        }
      ]
    },
    {
      "cell_type": "code",
      "source": [
        "data.Rating.max()"
      ],
      "metadata": {
        "colab": {
          "base_uri": "https://localhost:8080/"
        },
        "id": "v349ci28xkOG",
        "outputId": "b90e8fcf-db66-44fb-90f9-1b7b74ef49e8"
      },
      "execution_count": 12,
      "outputs": [
        {
          "output_type": "execute_result",
          "data": {
            "text/plain": [
              "10.0"
            ]
          },
          "metadata": {},
          "execution_count": 12
        }
      ]
    },
    {
      "cell_type": "code",
      "source": [
        "\n",
        "old_min = -10\n",
        "old_max = 10\n",
        "new_min = 1\n",
        "new_max = 5\n",
        "scaling_factor = (new_max - new_min) / (old_max - old_min)\n",
        "\n",
        "def rating_converter(original_rating):\n",
        "  global scaling_factor\n",
        "  new_rating = (original_rating - old_min) * scaling_factor + new_min\n",
        "  return new_rating\n",
        "\n",
        "data['Scaled_Rating'] = data.Rating.apply(rating_converter)"
      ],
      "metadata": {
        "id": "9tDmW4K1xwMm"
      },
      "execution_count": 13,
      "outputs": []
    },
    {
      "cell_type": "code",
      "source": [
        "data"
      ],
      "metadata": {
        "colab": {
          "base_uri": "https://localhost:8080/",
          "height": 423
        },
        "id": "Fx-Q5Qvxx4Hp",
        "outputId": "b7dfdd55-d180-43ea-e102-4c83eb284b38"
      },
      "execution_count": 14,
      "outputs": [
        {
          "output_type": "execute_result",
          "data": {
            "text/plain": [
              "               id  user_id  joke_id  Rating  Scaled_Rating\n",
              "0       31030_110    31030      110   2.750         3.5500\n",
              "1       16144_109    16144      109   5.094         4.0188\n",
              "2         23098_6    23098        6  -6.438         1.7124\n",
              "3        14273_86    14273       86   4.406         3.8812\n",
              "4       18419_134    18419      134   9.375         4.8750\n",
              "...           ...      ...      ...     ...            ...\n",
              "341116    30189_4    30189        4   1.969         3.3938\n",
              "341117  10586_117    10586      117   2.969         3.5938\n",
              "341118  28697_137    28697      137   9.031         4.8062\n",
              "341119     1564_6     1564        6   7.469         4.4938\n",
              "341120   11204_94    11204       94   2.060         3.4120\n",
              "\n",
              "[341121 rows x 5 columns]"
            ],
            "text/html": [
              "\n",
              "  <div id=\"df-bc5ba630-b760-4a23-99ea-26686fd08d7e\" class=\"colab-df-container\">\n",
              "    <div>\n",
              "<style scoped>\n",
              "    .dataframe tbody tr th:only-of-type {\n",
              "        vertical-align: middle;\n",
              "    }\n",
              "\n",
              "    .dataframe tbody tr th {\n",
              "        vertical-align: top;\n",
              "    }\n",
              "\n",
              "    .dataframe thead th {\n",
              "        text-align: right;\n",
              "    }\n",
              "</style>\n",
              "<table border=\"1\" class=\"dataframe\">\n",
              "  <thead>\n",
              "    <tr style=\"text-align: right;\">\n",
              "      <th></th>\n",
              "      <th>id</th>\n",
              "      <th>user_id</th>\n",
              "      <th>joke_id</th>\n",
              "      <th>Rating</th>\n",
              "      <th>Scaled_Rating</th>\n",
              "    </tr>\n",
              "  </thead>\n",
              "  <tbody>\n",
              "    <tr>\n",
              "      <th>0</th>\n",
              "      <td>31030_110</td>\n",
              "      <td>31030</td>\n",
              "      <td>110</td>\n",
              "      <td>2.750</td>\n",
              "      <td>3.5500</td>\n",
              "    </tr>\n",
              "    <tr>\n",
              "      <th>1</th>\n",
              "      <td>16144_109</td>\n",
              "      <td>16144</td>\n",
              "      <td>109</td>\n",
              "      <td>5.094</td>\n",
              "      <td>4.0188</td>\n",
              "    </tr>\n",
              "    <tr>\n",
              "      <th>2</th>\n",
              "      <td>23098_6</td>\n",
              "      <td>23098</td>\n",
              "      <td>6</td>\n",
              "      <td>-6.438</td>\n",
              "      <td>1.7124</td>\n",
              "    </tr>\n",
              "    <tr>\n",
              "      <th>3</th>\n",
              "      <td>14273_86</td>\n",
              "      <td>14273</td>\n",
              "      <td>86</td>\n",
              "      <td>4.406</td>\n",
              "      <td>3.8812</td>\n",
              "    </tr>\n",
              "    <tr>\n",
              "      <th>4</th>\n",
              "      <td>18419_134</td>\n",
              "      <td>18419</td>\n",
              "      <td>134</td>\n",
              "      <td>9.375</td>\n",
              "      <td>4.8750</td>\n",
              "    </tr>\n",
              "    <tr>\n",
              "      <th>...</th>\n",
              "      <td>...</td>\n",
              "      <td>...</td>\n",
              "      <td>...</td>\n",
              "      <td>...</td>\n",
              "      <td>...</td>\n",
              "    </tr>\n",
              "    <tr>\n",
              "      <th>341116</th>\n",
              "      <td>30189_4</td>\n",
              "      <td>30189</td>\n",
              "      <td>4</td>\n",
              "      <td>1.969</td>\n",
              "      <td>3.3938</td>\n",
              "    </tr>\n",
              "    <tr>\n",
              "      <th>341117</th>\n",
              "      <td>10586_117</td>\n",
              "      <td>10586</td>\n",
              "      <td>117</td>\n",
              "      <td>2.969</td>\n",
              "      <td>3.5938</td>\n",
              "    </tr>\n",
              "    <tr>\n",
              "      <th>341118</th>\n",
              "      <td>28697_137</td>\n",
              "      <td>28697</td>\n",
              "      <td>137</td>\n",
              "      <td>9.031</td>\n",
              "      <td>4.8062</td>\n",
              "    </tr>\n",
              "    <tr>\n",
              "      <th>341119</th>\n",
              "      <td>1564_6</td>\n",
              "      <td>1564</td>\n",
              "      <td>6</td>\n",
              "      <td>7.469</td>\n",
              "      <td>4.4938</td>\n",
              "    </tr>\n",
              "    <tr>\n",
              "      <th>341120</th>\n",
              "      <td>11204_94</td>\n",
              "      <td>11204</td>\n",
              "      <td>94</td>\n",
              "      <td>2.060</td>\n",
              "      <td>3.4120</td>\n",
              "    </tr>\n",
              "  </tbody>\n",
              "</table>\n",
              "<p>341121 rows × 5 columns</p>\n",
              "</div>\n",
              "    <div class=\"colab-df-buttons\">\n",
              "\n",
              "  <div class=\"colab-df-container\">\n",
              "    <button class=\"colab-df-convert\" onclick=\"convertToInteractive('df-bc5ba630-b760-4a23-99ea-26686fd08d7e')\"\n",
              "            title=\"Convert this dataframe to an interactive table.\"\n",
              "            style=\"display:none;\">\n",
              "\n",
              "  <svg xmlns=\"http://www.w3.org/2000/svg\" height=\"24px\" viewBox=\"0 -960 960 960\">\n",
              "    <path d=\"M120-120v-720h720v720H120Zm60-500h600v-160H180v160Zm220 220h160v-160H400v160Zm0 220h160v-160H400v160ZM180-400h160v-160H180v160Zm440 0h160v-160H620v160ZM180-180h160v-160H180v160Zm440 0h160v-160H620v160Z\"/>\n",
              "  </svg>\n",
              "    </button>\n",
              "\n",
              "  <style>\n",
              "    .colab-df-container {\n",
              "      display:flex;\n",
              "      gap: 12px;\n",
              "    }\n",
              "\n",
              "    .colab-df-convert {\n",
              "      background-color: #E8F0FE;\n",
              "      border: none;\n",
              "      border-radius: 50%;\n",
              "      cursor: pointer;\n",
              "      display: none;\n",
              "      fill: #1967D2;\n",
              "      height: 32px;\n",
              "      padding: 0 0 0 0;\n",
              "      width: 32px;\n",
              "    }\n",
              "\n",
              "    .colab-df-convert:hover {\n",
              "      background-color: #E2EBFA;\n",
              "      box-shadow: 0px 1px 2px rgba(60, 64, 67, 0.3), 0px 1px 3px 1px rgba(60, 64, 67, 0.15);\n",
              "      fill: #174EA6;\n",
              "    }\n",
              "\n",
              "    .colab-df-buttons div {\n",
              "      margin-bottom: 4px;\n",
              "    }\n",
              "\n",
              "    [theme=dark] .colab-df-convert {\n",
              "      background-color: #3B4455;\n",
              "      fill: #D2E3FC;\n",
              "    }\n",
              "\n",
              "    [theme=dark] .colab-df-convert:hover {\n",
              "      background-color: #434B5C;\n",
              "      box-shadow: 0px 1px 3px 1px rgba(0, 0, 0, 0.15);\n",
              "      filter: drop-shadow(0px 1px 2px rgba(0, 0, 0, 0.3));\n",
              "      fill: #FFFFFF;\n",
              "    }\n",
              "  </style>\n",
              "\n",
              "    <script>\n",
              "      const buttonEl =\n",
              "        document.querySelector('#df-bc5ba630-b760-4a23-99ea-26686fd08d7e button.colab-df-convert');\n",
              "      buttonEl.style.display =\n",
              "        google.colab.kernel.accessAllowed ? 'block' : 'none';\n",
              "\n",
              "      async function convertToInteractive(key) {\n",
              "        const element = document.querySelector('#df-bc5ba630-b760-4a23-99ea-26686fd08d7e');\n",
              "        const dataTable =\n",
              "          await google.colab.kernel.invokeFunction('convertToInteractive',\n",
              "                                                    [key], {});\n",
              "        if (!dataTable) return;\n",
              "\n",
              "        const docLinkHtml = 'Like what you see? Visit the ' +\n",
              "          '<a target=\"_blank\" href=https://colab.research.google.com/notebooks/data_table.ipynb>data table notebook</a>'\n",
              "          + ' to learn more about interactive tables.';\n",
              "        element.innerHTML = '';\n",
              "        dataTable['output_type'] = 'display_data';\n",
              "        await google.colab.output.renderOutput(dataTable, element);\n",
              "        const docLink = document.createElement('div');\n",
              "        docLink.innerHTML = docLinkHtml;\n",
              "        element.appendChild(docLink);\n",
              "      }\n",
              "    </script>\n",
              "  </div>\n",
              "\n",
              "\n",
              "<div id=\"df-78c54e7a-b352-418e-a54e-6888629ac816\">\n",
              "  <button class=\"colab-df-quickchart\" onclick=\"quickchart('df-78c54e7a-b352-418e-a54e-6888629ac816')\"\n",
              "            title=\"Suggest charts.\"\n",
              "            style=\"display:none;\">\n",
              "\n",
              "<svg xmlns=\"http://www.w3.org/2000/svg\" height=\"24px\"viewBox=\"0 0 24 24\"\n",
              "     width=\"24px\">\n",
              "    <g>\n",
              "        <path d=\"M19 3H5c-1.1 0-2 .9-2 2v14c0 1.1.9 2 2 2h14c1.1 0 2-.9 2-2V5c0-1.1-.9-2-2-2zM9 17H7v-7h2v7zm4 0h-2V7h2v10zm4 0h-2v-4h2v4z\"/>\n",
              "    </g>\n",
              "</svg>\n",
              "  </button>\n",
              "\n",
              "<style>\n",
              "  .colab-df-quickchart {\n",
              "      --bg-color: #E8F0FE;\n",
              "      --fill-color: #1967D2;\n",
              "      --hover-bg-color: #E2EBFA;\n",
              "      --hover-fill-color: #174EA6;\n",
              "      --disabled-fill-color: #AAA;\n",
              "      --disabled-bg-color: #DDD;\n",
              "  }\n",
              "\n",
              "  [theme=dark] .colab-df-quickchart {\n",
              "      --bg-color: #3B4455;\n",
              "      --fill-color: #D2E3FC;\n",
              "      --hover-bg-color: #434B5C;\n",
              "      --hover-fill-color: #FFFFFF;\n",
              "      --disabled-bg-color: #3B4455;\n",
              "      --disabled-fill-color: #666;\n",
              "  }\n",
              "\n",
              "  .colab-df-quickchart {\n",
              "    background-color: var(--bg-color);\n",
              "    border: none;\n",
              "    border-radius: 50%;\n",
              "    cursor: pointer;\n",
              "    display: none;\n",
              "    fill: var(--fill-color);\n",
              "    height: 32px;\n",
              "    padding: 0;\n",
              "    width: 32px;\n",
              "  }\n",
              "\n",
              "  .colab-df-quickchart:hover {\n",
              "    background-color: var(--hover-bg-color);\n",
              "    box-shadow: 0 1px 2px rgba(60, 64, 67, 0.3), 0 1px 3px 1px rgba(60, 64, 67, 0.15);\n",
              "    fill: var(--button-hover-fill-color);\n",
              "  }\n",
              "\n",
              "  .colab-df-quickchart-complete:disabled,\n",
              "  .colab-df-quickchart-complete:disabled:hover {\n",
              "    background-color: var(--disabled-bg-color);\n",
              "    fill: var(--disabled-fill-color);\n",
              "    box-shadow: none;\n",
              "  }\n",
              "\n",
              "  .colab-df-spinner {\n",
              "    border: 2px solid var(--fill-color);\n",
              "    border-color: transparent;\n",
              "    border-bottom-color: var(--fill-color);\n",
              "    animation:\n",
              "      spin 1s steps(1) infinite;\n",
              "  }\n",
              "\n",
              "  @keyframes spin {\n",
              "    0% {\n",
              "      border-color: transparent;\n",
              "      border-bottom-color: var(--fill-color);\n",
              "      border-left-color: var(--fill-color);\n",
              "    }\n",
              "    20% {\n",
              "      border-color: transparent;\n",
              "      border-left-color: var(--fill-color);\n",
              "      border-top-color: var(--fill-color);\n",
              "    }\n",
              "    30% {\n",
              "      border-color: transparent;\n",
              "      border-left-color: var(--fill-color);\n",
              "      border-top-color: var(--fill-color);\n",
              "      border-right-color: var(--fill-color);\n",
              "    }\n",
              "    40% {\n",
              "      border-color: transparent;\n",
              "      border-right-color: var(--fill-color);\n",
              "      border-top-color: var(--fill-color);\n",
              "    }\n",
              "    60% {\n",
              "      border-color: transparent;\n",
              "      border-right-color: var(--fill-color);\n",
              "    }\n",
              "    80% {\n",
              "      border-color: transparent;\n",
              "      border-right-color: var(--fill-color);\n",
              "      border-bottom-color: var(--fill-color);\n",
              "    }\n",
              "    90% {\n",
              "      border-color: transparent;\n",
              "      border-bottom-color: var(--fill-color);\n",
              "    }\n",
              "  }\n",
              "</style>\n",
              "\n",
              "  <script>\n",
              "    async function quickchart(key) {\n",
              "      const quickchartButtonEl =\n",
              "        document.querySelector('#' + key + ' button');\n",
              "      quickchartButtonEl.disabled = true;  // To prevent multiple clicks.\n",
              "      quickchartButtonEl.classList.add('colab-df-spinner');\n",
              "      try {\n",
              "        const charts = await google.colab.kernel.invokeFunction(\n",
              "            'suggestCharts', [key], {});\n",
              "      } catch (error) {\n",
              "        console.error('Error during call to suggestCharts:', error);\n",
              "      }\n",
              "      quickchartButtonEl.classList.remove('colab-df-spinner');\n",
              "      quickchartButtonEl.classList.add('colab-df-quickchart-complete');\n",
              "    }\n",
              "    (() => {\n",
              "      let quickchartButtonEl =\n",
              "        document.querySelector('#df-78c54e7a-b352-418e-a54e-6888629ac816 button');\n",
              "      quickchartButtonEl.style.display =\n",
              "        google.colab.kernel.accessAllowed ? 'block' : 'none';\n",
              "    })();\n",
              "  </script>\n",
              "</div>\n",
              "    </div>\n",
              "  </div>\n"
            ]
          },
          "metadata": {},
          "execution_count": 14
        }
      ]
    },
    {
      "cell_type": "code",
      "source": [
        "data.drop('Rating', axis=1, inplace=True)"
      ],
      "metadata": {
        "id": "rNqVMV0eyOIi"
      },
      "execution_count": 15,
      "outputs": []
    },
    {
      "cell_type": "code",
      "source": [
        "data"
      ],
      "metadata": {
        "colab": {
          "base_uri": "https://localhost:8080/",
          "height": 423
        },
        "id": "o89RDO7dyUCm",
        "outputId": "b7b371c2-a61c-445e-c1e5-3829fdcb72b0"
      },
      "execution_count": 16,
      "outputs": [
        {
          "output_type": "execute_result",
          "data": {
            "text/plain": [
              "               id  user_id  joke_id  Scaled_Rating\n",
              "0       31030_110    31030      110         3.5500\n",
              "1       16144_109    16144      109         4.0188\n",
              "2         23098_6    23098        6         1.7124\n",
              "3        14273_86    14273       86         3.8812\n",
              "4       18419_134    18419      134         4.8750\n",
              "...           ...      ...      ...            ...\n",
              "341116    30189_4    30189        4         3.3938\n",
              "341117  10586_117    10586      117         3.5938\n",
              "341118  28697_137    28697      137         4.8062\n",
              "341119     1564_6     1564        6         4.4938\n",
              "341120   11204_94    11204       94         3.4120\n",
              "\n",
              "[341121 rows x 4 columns]"
            ],
            "text/html": [
              "\n",
              "  <div id=\"df-efae32aa-0538-480f-8787-1086c3e9f403\" class=\"colab-df-container\">\n",
              "    <div>\n",
              "<style scoped>\n",
              "    .dataframe tbody tr th:only-of-type {\n",
              "        vertical-align: middle;\n",
              "    }\n",
              "\n",
              "    .dataframe tbody tr th {\n",
              "        vertical-align: top;\n",
              "    }\n",
              "\n",
              "    .dataframe thead th {\n",
              "        text-align: right;\n",
              "    }\n",
              "</style>\n",
              "<table border=\"1\" class=\"dataframe\">\n",
              "  <thead>\n",
              "    <tr style=\"text-align: right;\">\n",
              "      <th></th>\n",
              "      <th>id</th>\n",
              "      <th>user_id</th>\n",
              "      <th>joke_id</th>\n",
              "      <th>Scaled_Rating</th>\n",
              "    </tr>\n",
              "  </thead>\n",
              "  <tbody>\n",
              "    <tr>\n",
              "      <th>0</th>\n",
              "      <td>31030_110</td>\n",
              "      <td>31030</td>\n",
              "      <td>110</td>\n",
              "      <td>3.5500</td>\n",
              "    </tr>\n",
              "    <tr>\n",
              "      <th>1</th>\n",
              "      <td>16144_109</td>\n",
              "      <td>16144</td>\n",
              "      <td>109</td>\n",
              "      <td>4.0188</td>\n",
              "    </tr>\n",
              "    <tr>\n",
              "      <th>2</th>\n",
              "      <td>23098_6</td>\n",
              "      <td>23098</td>\n",
              "      <td>6</td>\n",
              "      <td>1.7124</td>\n",
              "    </tr>\n",
              "    <tr>\n",
              "      <th>3</th>\n",
              "      <td>14273_86</td>\n",
              "      <td>14273</td>\n",
              "      <td>86</td>\n",
              "      <td>3.8812</td>\n",
              "    </tr>\n",
              "    <tr>\n",
              "      <th>4</th>\n",
              "      <td>18419_134</td>\n",
              "      <td>18419</td>\n",
              "      <td>134</td>\n",
              "      <td>4.8750</td>\n",
              "    </tr>\n",
              "    <tr>\n",
              "      <th>...</th>\n",
              "      <td>...</td>\n",
              "      <td>...</td>\n",
              "      <td>...</td>\n",
              "      <td>...</td>\n",
              "    </tr>\n",
              "    <tr>\n",
              "      <th>341116</th>\n",
              "      <td>30189_4</td>\n",
              "      <td>30189</td>\n",
              "      <td>4</td>\n",
              "      <td>3.3938</td>\n",
              "    </tr>\n",
              "    <tr>\n",
              "      <th>341117</th>\n",
              "      <td>10586_117</td>\n",
              "      <td>10586</td>\n",
              "      <td>117</td>\n",
              "      <td>3.5938</td>\n",
              "    </tr>\n",
              "    <tr>\n",
              "      <th>341118</th>\n",
              "      <td>28697_137</td>\n",
              "      <td>28697</td>\n",
              "      <td>137</td>\n",
              "      <td>4.8062</td>\n",
              "    </tr>\n",
              "    <tr>\n",
              "      <th>341119</th>\n",
              "      <td>1564_6</td>\n",
              "      <td>1564</td>\n",
              "      <td>6</td>\n",
              "      <td>4.4938</td>\n",
              "    </tr>\n",
              "    <tr>\n",
              "      <th>341120</th>\n",
              "      <td>11204_94</td>\n",
              "      <td>11204</td>\n",
              "      <td>94</td>\n",
              "      <td>3.4120</td>\n",
              "    </tr>\n",
              "  </tbody>\n",
              "</table>\n",
              "<p>341121 rows × 4 columns</p>\n",
              "</div>\n",
              "    <div class=\"colab-df-buttons\">\n",
              "\n",
              "  <div class=\"colab-df-container\">\n",
              "    <button class=\"colab-df-convert\" onclick=\"convertToInteractive('df-efae32aa-0538-480f-8787-1086c3e9f403')\"\n",
              "            title=\"Convert this dataframe to an interactive table.\"\n",
              "            style=\"display:none;\">\n",
              "\n",
              "  <svg xmlns=\"http://www.w3.org/2000/svg\" height=\"24px\" viewBox=\"0 -960 960 960\">\n",
              "    <path d=\"M120-120v-720h720v720H120Zm60-500h600v-160H180v160Zm220 220h160v-160H400v160Zm0 220h160v-160H400v160ZM180-400h160v-160H180v160Zm440 0h160v-160H620v160ZM180-180h160v-160H180v160Zm440 0h160v-160H620v160Z\"/>\n",
              "  </svg>\n",
              "    </button>\n",
              "\n",
              "  <style>\n",
              "    .colab-df-container {\n",
              "      display:flex;\n",
              "      gap: 12px;\n",
              "    }\n",
              "\n",
              "    .colab-df-convert {\n",
              "      background-color: #E8F0FE;\n",
              "      border: none;\n",
              "      border-radius: 50%;\n",
              "      cursor: pointer;\n",
              "      display: none;\n",
              "      fill: #1967D2;\n",
              "      height: 32px;\n",
              "      padding: 0 0 0 0;\n",
              "      width: 32px;\n",
              "    }\n",
              "\n",
              "    .colab-df-convert:hover {\n",
              "      background-color: #E2EBFA;\n",
              "      box-shadow: 0px 1px 2px rgba(60, 64, 67, 0.3), 0px 1px 3px 1px rgba(60, 64, 67, 0.15);\n",
              "      fill: #174EA6;\n",
              "    }\n",
              "\n",
              "    .colab-df-buttons div {\n",
              "      margin-bottom: 4px;\n",
              "    }\n",
              "\n",
              "    [theme=dark] .colab-df-convert {\n",
              "      background-color: #3B4455;\n",
              "      fill: #D2E3FC;\n",
              "    }\n",
              "\n",
              "    [theme=dark] .colab-df-convert:hover {\n",
              "      background-color: #434B5C;\n",
              "      box-shadow: 0px 1px 3px 1px rgba(0, 0, 0, 0.15);\n",
              "      filter: drop-shadow(0px 1px 2px rgba(0, 0, 0, 0.3));\n",
              "      fill: #FFFFFF;\n",
              "    }\n",
              "  </style>\n",
              "\n",
              "    <script>\n",
              "      const buttonEl =\n",
              "        document.querySelector('#df-efae32aa-0538-480f-8787-1086c3e9f403 button.colab-df-convert');\n",
              "      buttonEl.style.display =\n",
              "        google.colab.kernel.accessAllowed ? 'block' : 'none';\n",
              "\n",
              "      async function convertToInteractive(key) {\n",
              "        const element = document.querySelector('#df-efae32aa-0538-480f-8787-1086c3e9f403');\n",
              "        const dataTable =\n",
              "          await google.colab.kernel.invokeFunction('convertToInteractive',\n",
              "                                                    [key], {});\n",
              "        if (!dataTable) return;\n",
              "\n",
              "        const docLinkHtml = 'Like what you see? Visit the ' +\n",
              "          '<a target=\"_blank\" href=https://colab.research.google.com/notebooks/data_table.ipynb>data table notebook</a>'\n",
              "          + ' to learn more about interactive tables.';\n",
              "        element.innerHTML = '';\n",
              "        dataTable['output_type'] = 'display_data';\n",
              "        await google.colab.output.renderOutput(dataTable, element);\n",
              "        const docLink = document.createElement('div');\n",
              "        docLink.innerHTML = docLinkHtml;\n",
              "        element.appendChild(docLink);\n",
              "      }\n",
              "    </script>\n",
              "  </div>\n",
              "\n",
              "\n",
              "<div id=\"df-268c4285-fcf9-4bbd-8a53-2cb0f632f983\">\n",
              "  <button class=\"colab-df-quickchart\" onclick=\"quickchart('df-268c4285-fcf9-4bbd-8a53-2cb0f632f983')\"\n",
              "            title=\"Suggest charts.\"\n",
              "            style=\"display:none;\">\n",
              "\n",
              "<svg xmlns=\"http://www.w3.org/2000/svg\" height=\"24px\"viewBox=\"0 0 24 24\"\n",
              "     width=\"24px\">\n",
              "    <g>\n",
              "        <path d=\"M19 3H5c-1.1 0-2 .9-2 2v14c0 1.1.9 2 2 2h14c1.1 0 2-.9 2-2V5c0-1.1-.9-2-2-2zM9 17H7v-7h2v7zm4 0h-2V7h2v10zm4 0h-2v-4h2v4z\"/>\n",
              "    </g>\n",
              "</svg>\n",
              "  </button>\n",
              "\n",
              "<style>\n",
              "  .colab-df-quickchart {\n",
              "      --bg-color: #E8F0FE;\n",
              "      --fill-color: #1967D2;\n",
              "      --hover-bg-color: #E2EBFA;\n",
              "      --hover-fill-color: #174EA6;\n",
              "      --disabled-fill-color: #AAA;\n",
              "      --disabled-bg-color: #DDD;\n",
              "  }\n",
              "\n",
              "  [theme=dark] .colab-df-quickchart {\n",
              "      --bg-color: #3B4455;\n",
              "      --fill-color: #D2E3FC;\n",
              "      --hover-bg-color: #434B5C;\n",
              "      --hover-fill-color: #FFFFFF;\n",
              "      --disabled-bg-color: #3B4455;\n",
              "      --disabled-fill-color: #666;\n",
              "  }\n",
              "\n",
              "  .colab-df-quickchart {\n",
              "    background-color: var(--bg-color);\n",
              "    border: none;\n",
              "    border-radius: 50%;\n",
              "    cursor: pointer;\n",
              "    display: none;\n",
              "    fill: var(--fill-color);\n",
              "    height: 32px;\n",
              "    padding: 0;\n",
              "    width: 32px;\n",
              "  }\n",
              "\n",
              "  .colab-df-quickchart:hover {\n",
              "    background-color: var(--hover-bg-color);\n",
              "    box-shadow: 0 1px 2px rgba(60, 64, 67, 0.3), 0 1px 3px 1px rgba(60, 64, 67, 0.15);\n",
              "    fill: var(--button-hover-fill-color);\n",
              "  }\n",
              "\n",
              "  .colab-df-quickchart-complete:disabled,\n",
              "  .colab-df-quickchart-complete:disabled:hover {\n",
              "    background-color: var(--disabled-bg-color);\n",
              "    fill: var(--disabled-fill-color);\n",
              "    box-shadow: none;\n",
              "  }\n",
              "\n",
              "  .colab-df-spinner {\n",
              "    border: 2px solid var(--fill-color);\n",
              "    border-color: transparent;\n",
              "    border-bottom-color: var(--fill-color);\n",
              "    animation:\n",
              "      spin 1s steps(1) infinite;\n",
              "  }\n",
              "\n",
              "  @keyframes spin {\n",
              "    0% {\n",
              "      border-color: transparent;\n",
              "      border-bottom-color: var(--fill-color);\n",
              "      border-left-color: var(--fill-color);\n",
              "    }\n",
              "    20% {\n",
              "      border-color: transparent;\n",
              "      border-left-color: var(--fill-color);\n",
              "      border-top-color: var(--fill-color);\n",
              "    }\n",
              "    30% {\n",
              "      border-color: transparent;\n",
              "      border-left-color: var(--fill-color);\n",
              "      border-top-color: var(--fill-color);\n",
              "      border-right-color: var(--fill-color);\n",
              "    }\n",
              "    40% {\n",
              "      border-color: transparent;\n",
              "      border-right-color: var(--fill-color);\n",
              "      border-top-color: var(--fill-color);\n",
              "    }\n",
              "    60% {\n",
              "      border-color: transparent;\n",
              "      border-right-color: var(--fill-color);\n",
              "    }\n",
              "    80% {\n",
              "      border-color: transparent;\n",
              "      border-right-color: var(--fill-color);\n",
              "      border-bottom-color: var(--fill-color);\n",
              "    }\n",
              "    90% {\n",
              "      border-color: transparent;\n",
              "      border-bottom-color: var(--fill-color);\n",
              "    }\n",
              "  }\n",
              "</style>\n",
              "\n",
              "  <script>\n",
              "    async function quickchart(key) {\n",
              "      const quickchartButtonEl =\n",
              "        document.querySelector('#' + key + ' button');\n",
              "      quickchartButtonEl.disabled = true;  // To prevent multiple clicks.\n",
              "      quickchartButtonEl.classList.add('colab-df-spinner');\n",
              "      try {\n",
              "        const charts = await google.colab.kernel.invokeFunction(\n",
              "            'suggestCharts', [key], {});\n",
              "      } catch (error) {\n",
              "        console.error('Error during call to suggestCharts:', error);\n",
              "      }\n",
              "      quickchartButtonEl.classList.remove('colab-df-spinner');\n",
              "      quickchartButtonEl.classList.add('colab-df-quickchart-complete');\n",
              "    }\n",
              "    (() => {\n",
              "      let quickchartButtonEl =\n",
              "        document.querySelector('#df-268c4285-fcf9-4bbd-8a53-2cb0f632f983 button');\n",
              "      quickchartButtonEl.style.display =\n",
              "        google.colab.kernel.accessAllowed ? 'block' : 'none';\n",
              "    })();\n",
              "  </script>\n",
              "</div>\n",
              "    </div>\n",
              "  </div>\n"
            ]
          },
          "metadata": {},
          "execution_count": 16
        }
      ]
    },
    {
      "cell_type": "code",
      "source": [
        "data.drop('id', axis=1, inplace=True)"
      ],
      "metadata": {
        "id": "e0WBmILFybJf"
      },
      "execution_count": 17,
      "outputs": []
    },
    {
      "cell_type": "code",
      "source": [
        "reader = Reader(rating_scale=(1,5))"
      ],
      "metadata": {
        "id": "qPN_kKkTygRE"
      },
      "execution_count": 19,
      "outputs": []
    },
    {
      "cell_type": "code",
      "source": [
        "surprise_dataset = Dataset.load_from_df(data, reader)"
      ],
      "metadata": {
        "id": "iGtZK9Epyk8Q"
      },
      "execution_count": 21,
      "outputs": []
    },
    {
      "cell_type": "code",
      "source": [
        "algo = SVD()"
      ],
      "metadata": {
        "id": "cqn6D48QyqOR"
      },
      "execution_count": 22,
      "outputs": []
    },
    {
      "cell_type": "code",
      "source": [
        "from surprise.model_selection import cross_validate"
      ],
      "metadata": {
        "id": "48cUk6RsyvQg"
      },
      "execution_count": 23,
      "outputs": []
    },
    {
      "cell_type": "code",
      "source": [
        "cross_validate(algo, surprise_dataset, measures=['RMSE'], cv=5)"
      ],
      "metadata": {
        "colab": {
          "base_uri": "https://localhost:8080/"
        },
        "id": "rOrhHqnPzSBI",
        "outputId": "a8e946e7-c074-4454-adee-a8c2c2a8fdd2"
      },
      "execution_count": 24,
      "outputs": [
        {
          "output_type": "execute_result",
          "data": {
            "text/plain": [
              "{'test_rmse': array([0.88920314, 0.89260806, 0.89554531, 0.88852516, 0.89193066]),\n",
              " 'fit_time': (5.959188461303711,\n",
              "  6.2549004554748535,\n",
              "  7.400691032409668,\n",
              "  7.7609593868255615,\n",
              "  6.035923957824707),\n",
              " 'test_time': (0.6653482913970947,\n",
              "  0.6508429050445557,\n",
              "  0.7093486785888672,\n",
              "  0.6433920860290527,\n",
              "  0.583010196685791)}"
            ]
          },
          "metadata": {},
          "execution_count": 24
        }
      ]
    },
    {
      "cell_type": "code",
      "source": [
        "from surprise import NMF"
      ],
      "metadata": {
        "id": "bUIG5JUxzWUv"
      },
      "execution_count": 25,
      "outputs": []
    },
    {
      "cell_type": "code",
      "source": [
        "algo2 = NMF()"
      ],
      "metadata": {
        "id": "Oo4eu4jZzaS-"
      },
      "execution_count": 26,
      "outputs": []
    },
    {
      "cell_type": "code",
      "source": [
        "cross_validate(algo2, surprise_dataset, measures=['RMSE'], cv=5)"
      ],
      "metadata": {
        "colab": {
          "base_uri": "https://localhost:8080/"
        },
        "id": "BjiX_PAAzddo",
        "outputId": "5137a804-5868-455e-d53c-1ea6fd3cc5c2"
      },
      "execution_count": 27,
      "outputs": [
        {
          "output_type": "execute_result",
          "data": {
            "text/plain": [
              "{'test_rmse': array([0.94872498, 0.95769714, 0.95871194, 0.95527818, 0.96502444]),\n",
              " 'fit_time': (11.839819192886353,\n",
              "  11.577639102935791,\n",
              "  11.824709415435791,\n",
              "  12.75580620765686,\n",
              "  11.748380422592163),\n",
              " 'test_time': (0.5907652378082275,\n",
              "  0.6442511081695557,\n",
              "  0.3718559741973877,\n",
              "  0.6026709079742432,\n",
              "  1.0996873378753662)}"
            ]
          },
          "metadata": {},
          "execution_count": 27
        }
      ]
    },
    {
      "cell_type": "code",
      "source": [
        "from surprise import SlopeOne\n",
        "algo3 = SlopeOne()"
      ],
      "metadata": {
        "id": "snwo80YazoxP"
      },
      "execution_count": 28,
      "outputs": []
    },
    {
      "cell_type": "code",
      "source": [
        "cross_validate(algo3, surprise_dataset, measures=['RMSE'], cv=5)"
      ],
      "metadata": {
        "colab": {
          "base_uri": "https://localhost:8080/"
        },
        "id": "nGvFAAiszvBv",
        "outputId": "49d22bfd-ce98-4420-fecf-63337fc0f21b"
      },
      "execution_count": 29,
      "outputs": [
        {
          "output_type": "execute_result",
          "data": {
            "text/plain": [
              "{'test_rmse': array([0.89923195, 0.89159381, 0.8973432 , 0.89757957, 0.89725063]),\n",
              " 'fit_time': (0.93904709815979,\n",
              "  0.741997241973877,\n",
              "  0.750544548034668,\n",
              "  0.7551052570343018,\n",
              "  1.1469089984893799),\n",
              " 'test_time': (2.0324771404266357,\n",
              "  1.0719232559204102,\n",
              "  1.4034662246704102,\n",
              "  1.3627033233642578,\n",
              "  1.66066575050354)}"
            ]
          },
          "metadata": {},
          "execution_count": 29
        }
      ]
    },
    {
      "cell_type": "code",
      "source": [
        "from surprise import BaselineOnly"
      ],
      "metadata": {
        "id": "Bxm61rYTz0YB"
      },
      "execution_count": 30,
      "outputs": []
    },
    {
      "cell_type": "code",
      "source": [
        "algo4 = BaselineOnly()\n",
        "cross_validate(algo3, surprise_dataset, measures=['RMSE'], cv=5)"
      ],
      "metadata": {
        "colab": {
          "base_uri": "https://localhost:8080/"
        },
        "id": "QdjmLMhsz3qa",
        "outputId": "5c66f455-852d-4263-a74e-3b2addff0b6a"
      },
      "execution_count": 31,
      "outputs": [
        {
          "output_type": "execute_result",
          "data": {
            "text/plain": [
              "{'test_rmse': array([0.89484717, 0.89331253, 0.89927043, 0.89255026, 0.8984754 ]),\n",
              " 'fit_time': (0.8053524494171143,\n",
              "  0.7631537914276123,\n",
              "  0.7467367649078369,\n",
              "  0.7513985633850098,\n",
              "  0.7661342620849609),\n",
              " 'test_time': (1.4041330814361572,\n",
              "  1.9758124351501465,\n",
              "  1.409148931503296,\n",
              "  1.4650399684906006,\n",
              "  1.3806896209716797)}"
            ]
          },
          "metadata": {},
          "execution_count": 31
        }
      ]
    },
    {
      "cell_type": "code",
      "source": [
        "\n",
        "from surprise.model_selection import GridSearchCV\n",
        "param_grid = {\n",
        "    'n_factors': [10, 20, 30],\n",
        "    'n_epochs': [5, 10, 20],\n",
        "    'lr_all': [0.002, 0.005, 0.01]\n",
        "}"
      ],
      "metadata": {
        "id": "IzIw6zqtz8bN"
      },
      "execution_count": 32,
      "outputs": []
    },
    {
      "cell_type": "code",
      "source": [
        "#Splitting"
      ],
      "metadata": {
        "id": "NzpSldV7z9mj"
      },
      "execution_count": null,
      "outputs": []
    },
    {
      "cell_type": "code",
      "source": [
        "from surprise.model_selection import train_test_split\n",
        "\n",
        "trainset, testset = train_test_split(surprise_dataset, test_size=0.2)"
      ],
      "metadata": {
        "id": "L0FybwUs0FWh"
      },
      "execution_count": 33,
      "outputs": []
    },
    {
      "cell_type": "code",
      "source": [
        "best_rmse = float('inf')\n",
        "best_params = {}\n",
        "\n",
        "for n_factors in param_grid['n_factors']:\n",
        "    for n_epochs in param_grid['n_epochs']:\n",
        "        for lr_all in param_grid['lr_all']:\n",
        "            algo = SVD(n_factors=n_factors, n_epochs=n_epochs, lr_all=lr_all, verbose=False)\n",
        "            results = cross_validate(algo, surprise_dataset, measures=['RMSE'], cv=5, verbose=False)\n",
        "            mean_rmse = results['test_rmse'].mean()\n",
        "            if mean_rmse < best_rmse:\n",
        "                best_rmse = mean_rmse\n",
        "                best_params = {'n_factors': n_factors, 'n_epochs': n_epochs, 'lr_all': lr_all}\n",
        "\n",
        "print(\"Best Hyperparameters:\", best_params)\n",
        "print(\"Best RMSE:\", best_rmse)"
      ],
      "metadata": {
        "colab": {
          "base_uri": "https://localhost:8080/"
        },
        "id": "OOT5-SIU0dRZ",
        "outputId": "15505be2-4cb6-4c6d-de48-820a67c5c32b"
      },
      "execution_count": 34,
      "outputs": [
        {
          "output_type": "stream",
          "name": "stdout",
          "text": [
            "Best Hyperparameters: {'n_factors': 10, 'n_epochs': 20, 'lr_all': 0.005}\n",
            "Best RMSE: 0.8799491348529249\n"
          ]
        }
      ]
    },
    {
      "cell_type": "code",
      "source": [
        "best_model = SVD(n_factors = 20, n_epochs=20, lr_all=0.005)"
      ],
      "metadata": {
        "id": "vyNein3m0gy9"
      },
      "execution_count": 35,
      "outputs": []
    },
    {
      "cell_type": "code",
      "source": [
        "best_model.fit(trainset)"
      ],
      "metadata": {
        "colab": {
          "base_uri": "https://localhost:8080/"
        },
        "id": "LHUT8GOa0jEV",
        "outputId": "c83add9c-bcd5-45cd-c7ea-bbaaf0978cb6"
      },
      "execution_count": 36,
      "outputs": [
        {
          "output_type": "execute_result",
          "data": {
            "text/plain": [
              "<surprise.prediction_algorithms.matrix_factorization.SVD at 0x7daffefcf850>"
            ]
          },
          "metadata": {},
          "execution_count": 36
        }
      ]
    },
    {
      "cell_type": "code",
      "source": [
        "predictions = best_model.test(testset)"
      ],
      "metadata": {
        "id": "nBfR4M6f0pTX"
      },
      "execution_count": 37,
      "outputs": []
    },
    {
      "cell_type": "code",
      "source": [
        "from surprise import accuracy\n",
        "rmse = accuracy.rmse(predictions)"
      ],
      "metadata": {
        "colab": {
          "base_uri": "https://localhost:8080/"
        },
        "id": "__9SRFdH0srj",
        "outputId": "0cc502e7-9490-4066-f496-aa29f672176b"
      },
      "execution_count": 38,
      "outputs": [
        {
          "output_type": "stream",
          "name": "stdout",
          "text": [
            "RMSE: 0.8835\n"
          ]
        }
      ]
    }
  ]
}